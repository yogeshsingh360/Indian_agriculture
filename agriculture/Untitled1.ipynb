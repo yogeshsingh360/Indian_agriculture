{
 "cells": [
  {
   "cell_type": "code",
   "execution_count": null,
   "id": "34e9bb38-137d-4ed5-b49e-31821cd567b5",
   "metadata": {},
   "outputs": [],
   "source": []
  }
 ],
 "metadata": {
  "kernelspec": {
   "display_name": "",
   "name": ""
  },
  "language_info": {
   "name": ""
  }
 },
 "nbformat": 4,
 "nbformat_minor": 5
}
