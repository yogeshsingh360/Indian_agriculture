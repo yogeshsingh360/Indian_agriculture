{
 "cells": [
  {
   "cell_type": "code",
   "execution_count": 1,
   "id": "02478db4-c027-467c-9002-b0d50bb01c50",
   "metadata": {},
   "outputs": [
    {
     "name": "stderr",
     "output_type": "stream",
     "text": [
      "Fetching weather data: 100%|█████████████████████████████████████████████████████████| 300/300 [09:03<00:00,  1.81s/it]\n"
     ]
    },
    {
     "name": "stdout",
     "output_type": "stream",
     "text": [
      "\n",
      "✅ All data saved to 'historical_weather_300_data2011.csv'\n"
     ]
    }
   ],
   "source": [
    "import pandas as pd\n",
    "import requests\n",
    "from tqdm import tqdm  # <-- Progress bar\n",
    "import time\n",
    "\n",
    "# Load input CSV\n",
    "input_file = 'coor_300.csv'\n",
    "df = pd.read_csv(input_file)\n",
    "\n",
    "# Base API config\n",
    "base_url = \"https://archive-api.open-meteo.com/v1/archive\"\n",
    "start_date = \"2011-01-01\"\n",
    "end_date = \"2011-12-31\"\n",
    "\n",
    "# Store results\n",
    "combined_data = []\n",
    "\n",
    "def fetch_weather_data(row):\n",
    "    lat = row['latitude']\n",
    "    lon = row['longitude']\n",
    "    state = row['State_Name']\n",
    "    district = row['District_Name']\n",
    "\n",
    "    params = {\n",
    "        \"latitude\": lat,\n",
    "        \"longitude\": lon,\n",
    "        \"start_date\": start_date,\n",
    "        \"end_date\": end_date,\n",
    "        \"daily\": \"precipitation_sum,relative_humidity_2m_mean,temperature_2m_mean,wind_speed_10m_mean\"\n",
    "    }\n",
    "\n",
    "    try:\n",
    "        response = requests.get(base_url, params=params, timeout=30)\n",
    "        response.raise_for_status()\n",
    "        data = response.json()\n",
    "\n",
    "        results = []\n",
    "        if 'daily' in data:\n",
    "            for i in range(len(data['daily']['time'])):\n",
    "                results.append({\n",
    "                    \"state\": state,\n",
    "                    \"district\": district,\n",
    "                    \"latitude\": lat,\n",
    "                    \"longitude\": lon,\n",
    "                    \"date\": data['daily']['time'][i],\n",
    "                    \"precipitation_sum\": data['daily']['precipitation_sum'][i],\n",
    "                    \"relative_humidity_2m_mean\": data['daily']['relative_humidity_2m_mean'][i],\n",
    "                    \"temperature_2m_mean\": data['daily']['temperature_2m_mean'][i],\n",
    "                    \"wind_speed_10m_mean\": data['daily']['wind_speed_10m_mean'][i]\n",
    "                })\n",
    "        return results\n",
    "\n",
    "    except Exception as e:\n",
    "        print(f\"[x] Failed for {district}, {state}: {e}\")\n",
    "        return []\n",
    "\n",
    "# Sequential execution with progress bar\n",
    "for _, row in tqdm(df.iterrows(), total=len(df), desc=\"Fetching weather data\"):\n",
    "    combined_data.extend(fetch_weather_data(row))\n",
    "    time.sleep(1)  # Delay to avoid hitting rate limits\n",
    "\n",
    "# Save to CSV\n",
    "output_file = \"historical_weather_300_data2011.csv\"\n",
    "pd.DataFrame(combined_data).to_csv(output_file, index=False)\n",
    "print(f\"\\n✅ All data saved to '{output_file}'\")"
   ]
  },
  {
   "cell_type": "code",
   "execution_count": null,
   "id": "8887f192-d375-4332-9d23-88d6ec407400",
   "metadata": {},
   "outputs": [],
   "source": []
  }
 ],
 "metadata": {
  "kernelspec": {
   "display_name": "Python 3 (ipykernel)",
   "language": "python",
   "name": "python3"
  },
  "language_info": {
   "codemirror_mode": {
    "name": "ipython",
    "version": 3
   },
   "file_extension": ".py",
   "mimetype": "text/x-python",
   "name": "python",
   "nbconvert_exporter": "python",
   "pygments_lexer": "ipython3",
   "version": "3.10.16"
  }
 },
 "nbformat": 4,
 "nbformat_minor": 5
}
