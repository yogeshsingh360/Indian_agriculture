{
 "cells": [
  {
   "cell_type": "code",
   "execution_count": 1,
   "id": "f79e2af6-07a1-4544-8854-ad956c6da486",
   "metadata": {},
   "outputs": [
    {
     "name": "stderr",
     "output_type": "stream",
     "text": [
      "Fetching weather data:   0%|                                                                   | 0/621 [00:00<?, ?it/s]"
     ]
    },
    {
     "name": "stdout",
     "output_type": "stream",
     "text": [
      "[x] Failed for ANANTAPUR, Andhra Pradesh: 429 Client Error: Too Many Requests for url: https://archive-api.open-meteo.com/v1/archive?latitude=14.72422&longitude=77.4306738&start_date=2000-01-01&end_date=2000-12-31&daily=precipitation_sum%2Crelative_humidity_2m_mean%2Ctemperature_2m_mean%2Cwind_speed_10m_mean\n"
     ]
    },
    {
     "name": "stderr",
     "output_type": "stream",
     "text": [
      "Fetching weather data:   0%|                                                           | 1/621 [00:02<20:42,  2.00s/it]"
     ]
    },
    {
     "name": "stdout",
     "output_type": "stream",
     "text": [
      "[x] Failed for CHITTOOR, Andhra Pradesh: 429 Client Error: Too Many Requests for url: https://archive-api.open-meteo.com/v1/archive?latitude=13.2026484&longitude=79.0032253&start_date=2000-01-01&end_date=2000-12-31&daily=precipitation_sum%2Crelative_humidity_2m_mean%2Ctemperature_2m_mean%2Cwind_speed_10m_mean\n"
     ]
    },
    {
     "name": "stderr",
     "output_type": "stream",
     "text": [
      "Fetching weather data:   0%|▏                                                          | 2/621 [00:04<20:43,  2.01s/it]"
     ]
    },
    {
     "name": "stdout",
     "output_type": "stream",
     "text": [
      "[x] Failed for EAST GODAVARI, Andhra Pradesh: 429 Client Error: Too Many Requests for url: https://archive-api.open-meteo.com/v1/archive?latitude=16.9956638&longitude=81.7154378&start_date=2000-01-01&end_date=2000-12-31&daily=precipitation_sum%2Crelative_humidity_2m_mean%2Ctemperature_2m_mean%2Cwind_speed_10m_mean\n"
     ]
    },
    {
     "name": "stderr",
     "output_type": "stream",
     "text": [
      "Fetching weather data:   0%|▎                                                          | 3/621 [00:06<21:03,  2.04s/it]"
     ]
    },
    {
     "name": "stdout",
     "output_type": "stream",
     "text": [
      "[x] Failed for GUNTUR, Andhra Pradesh: 429 Client Error: Too Many Requests for url: https://archive-api.open-meteo.com/v1/archive?latitude=16.2915189&longitude=80.4541588&start_date=2000-01-01&end_date=2000-12-31&daily=precipitation_sum%2Crelative_humidity_2m_mean%2Ctemperature_2m_mean%2Cwind_speed_10m_mean\n"
     ]
    },
    {
     "name": "stderr",
     "output_type": "stream",
     "text": [
      "Fetching weather data:   1%|▍                                                          | 4/621 [00:08<20:49,  2.02s/it]"
     ]
    },
    {
     "name": "stdout",
     "output_type": "stream",
     "text": [
      "[x] Failed for KADAPA, Andhra Pradesh: 429 Client Error: Too Many Requests for url: https://archive-api.open-meteo.com/v1/archive?latitude=14.4752936&longitude=78.8216861&start_date=2000-01-01&end_date=2000-12-31&daily=precipitation_sum%2Crelative_humidity_2m_mean%2Ctemperature_2m_mean%2Cwind_speed_10m_mean\n"
     ]
    },
    {
     "name": "stderr",
     "output_type": "stream",
     "text": [
      "Fetching weather data:   1%|▍                                                          | 5/621 [00:10<21:14,  2.07s/it]"
     ]
    },
    {
     "name": "stdout",
     "output_type": "stream",
     "text": [
      "[x] Failed for KRISHNA, Andhra Pradesh: 429 Client Error: Too Many Requests for url: https://archive-api.open-meteo.com/v1/archive?latitude=16.21277&longitude=81.0306958&start_date=2000-01-01&end_date=2000-12-31&daily=precipitation_sum%2Crelative_humidity_2m_mean%2Ctemperature_2m_mean%2Cwind_speed_10m_mean\n"
     ]
    },
    {
     "name": "stderr",
     "output_type": "stream",
     "text": [
      "Fetching weather data:   1%|▍                                                          | 5/621 [00:12<25:17,  2.46s/it]\n"
     ]
    },
    {
     "ename": "KeyboardInterrupt",
     "evalue": "",
     "output_type": "error",
     "traceback": [
      "\u001b[1;31m---------------------------------------------------------------------------\u001b[0m",
      "\u001b[1;31mKeyboardInterrupt\u001b[0m                         Traceback (most recent call last)",
      "Cell \u001b[1;32mIn[1], line 60\u001b[0m\n\u001b[0;32m     58\u001b[0m \u001b[38;5;28;01mfor\u001b[39;00m _, row \u001b[38;5;129;01min\u001b[39;00m tqdm(df\u001b[38;5;241m.\u001b[39miterrows(), total\u001b[38;5;241m=\u001b[39m\u001b[38;5;28mlen\u001b[39m(df), desc\u001b[38;5;241m=\u001b[39m\u001b[38;5;124m\"\u001b[39m\u001b[38;5;124mFetching weather data\u001b[39m\u001b[38;5;124m\"\u001b[39m):\n\u001b[0;32m     59\u001b[0m     combined_data\u001b[38;5;241m.\u001b[39mextend(fetch_weather_data(row))\n\u001b[1;32m---> 60\u001b[0m     \u001b[43mtime\u001b[49m\u001b[38;5;241;43m.\u001b[39;49m\u001b[43msleep\u001b[49m\u001b[43m(\u001b[49m\u001b[38;5;241;43m1\u001b[39;49m\u001b[43m)\u001b[49m  \u001b[38;5;66;03m# Delay to avoid hitting rate limits\u001b[39;00m\n\u001b[0;32m     62\u001b[0m \u001b[38;5;66;03m# Save to CSV\u001b[39;00m\n\u001b[0;32m     63\u001b[0m output_file \u001b[38;5;241m=\u001b[39m \u001b[38;5;124m\"\u001b[39m\u001b[38;5;124mhistorical_weather_data.csv\u001b[39m\u001b[38;5;124m\"\u001b[39m\n",
      "\u001b[1;31mKeyboardInterrupt\u001b[0m: "
     ]
    }
   ],
   "source": [
    "import pandas as pd\n",
    "import requests\n",
    "from tqdm import tqdm  # <-- Progress bar\n",
    "import time\n",
    "\n",
    "# Load input CSV\n",
    "input_file = 'filled_coordinates.csv'\n",
    "df = pd.read_csv(input_file)\n",
    "\n",
    "# Base API config\n",
    "base_url = \"https://archive-api.open-meteo.com/v1/archive\"\n",
    "start_date = \"2000-01-01\"\n",
    "end_date = \"2000-12-31\"\n",
    "\n",
    "# Store results\n",
    "combined_data = []\n",
    "\n",
    "def fetch_weather_data(row):\n",
    "    lat = row['latitude']\n",
    "    lon = row['longitude']\n",
    "    state = row['State_Name']\n",
    "    district = row['District_Name']\n",
    "\n",
    "    params = {\n",
    "        \"latitude\": lat,\n",
    "        \"longitude\": lon,\n",
    "        \"start_date\": start_date,\n",
    "        \"end_date\": end_date,\n",
    "        \"daily\": \"precipitation_sum,relative_humidity_2m_mean,temperature_2m_mean,wind_speed_10m_mean\"\n",
    "    }\n",
    "\n",
    "    try:\n",
    "        response = requests.get(base_url, params=params, timeout=30)\n",
    "        response.raise_for_status()\n",
    "        data = response.json()\n",
    "\n",
    "        results = []\n",
    "        if 'daily' in data:\n",
    "            for i in range(len(data['daily']['time'])):\n",
    "                results.append({\n",
    "                    \"state\": state,\n",
    "                    \"district\": district,\n",
    "                    \"latitude\": lat,\n",
    "                    \"longitude\": lon,\n",
    "                    \"date\": data['daily']['time'][i],\n",
    "                    \"precipitation_sum\": data['daily']['precipitation_sum'][i],\n",
    "                    \"relative_humidity_2m_mean\": data['daily']['relative_humidity_2m_mean'][i],\n",
    "                    \"temperature_2m_mean\": data['daily']['temperature_2m_mean'][i],\n",
    "                    \"wind_speed_10m_mean\": data['daily']['wind_speed_10m_mean'][i]\n",
    "                })\n",
    "        return results\n",
    "\n",
    "    except Exception as e:\n",
    "        print(f\"[x] Failed for {district}, {state}: {e}\")\n",
    "        return []\n",
    "\n",
    "# Sequential execution with progress bar\n",
    "for _, row in tqdm(df.iterrows(), total=len(df), desc=\"Fetching weather data\"):\n",
    "    combined_data.extend(fetch_weather_data(row))\n",
    "    time.sleep(1)  # Delay to avoid hitting rate limits\n",
    "\n",
    "# Save to CSV\n",
    "output_file = \"historical_weather_data.csv\"\n",
    "pd.DataFrame(combined_data).to_csv(output_file, index=False)\n",
    "print(f\"\\n✅ All data saved to '{output_file}'\")\n"
   ]
  },
  {
   "cell_type": "code",
   "execution_count": null,
   "id": "02518e42-657e-4674-bae2-25599cf5c27c",
   "metadata": {},
   "outputs": [],
   "source": []
  }
 ],
 "metadata": {
  "kernelspec": {
   "display_name": "Python 3 (ipykernel)",
   "language": "python",
   "name": "python3"
  },
  "language_info": {
   "codemirror_mode": {
    "name": "ipython",
    "version": 3
   },
   "file_extension": ".py",
   "mimetype": "text/x-python",
   "name": "python",
   "nbconvert_exporter": "python",
   "pygments_lexer": "ipython3",
   "version": "3.10.16"
  }
 },
 "nbformat": 4,
 "nbformat_minor": 5
}
